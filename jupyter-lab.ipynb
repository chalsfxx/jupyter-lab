{
 "cells": [
  {
   "cell_type": "markdown",
   "id": "90768231",
   "metadata": {},
   "source": [
    "### There are a total of 25 points possible for this final project.   \n",
    "\n",
    "Your grade will be based on the following Exercises:\n",
    "\n",
    "Exercise 2 - Create a markdown cell with the title of the notebook. (1 pt)\n",
    "\n",
    "Exercise 3 - Create a markdown cell for an introduction. (1 pt)\n",
    "\n",
    "Exercise 4 - Create a markdown cell to list data science languages. (3 pts)\n",
    "\n",
    "Exercise 5 - Create a markdown cell to list data science libraries. (3 pts)\n",
    "\n",
    "Exercise 6 - Create a markdown cell with a table of Data Science tools. (3 pts)\n",
    "\n",
    "Exercise 7 - Create a markdown cell introducing arithmetic expression examples. (1 pt)\n",
    "\n",
    "Exercise 8 - Create a code cell to multiply and add numbers. (2 pts)\n",
    "\n",
    "Exercise 9 - Create a code cell to convert minutes to hours. (2 pts)\n",
    "\n",
    "Exercise 10 -Insert a markdown cell to list Objectives. (3 pts)\n",
    "\n",
    "Exercise 11 - Create a markdown cell to indicate the Author’s name. (2 pts)\n",
    "\n",
    "Exercise 12 - Share your notebook through GitHub (3 pts)\n",
    "\n",
    "Exercise 13 - Take a screenshot of the first page of the notebook. (1 pt)\n",
    "\n",
    "The main grading criteria will be:\n",
    "\n",
    "Is the notebook publicly viewable?\n",
    "\n",
    "Are there, or do there appear to be, at least 8 Markdown cells and 2 code cells? \n",
    "\n",
    "Are the criteria for each cell fulfilled, as described in the \"Guidelines for Submission\"?\n",
    "\n",
    "You will not be judged on:\n",
    "\n",
    "Your English language, including spelling or grammatical mistakes.\n"
   ]
  },
  {
   "cell_type": "markdown",
   "id": "8c75bb9c",
   "metadata": {},
   "source": [
    "### ex2"
   ]
  },
  {
   "cell_type": "markdown",
   "id": "b3225466",
   "metadata": {},
   "source": [
    "# Jupyter-lab"
   ]
  },
  {
   "cell_type": "markdown",
   "id": "31694d04",
   "metadata": {},
   "source": [
    "### ex3\n"
   ]
  },
  {
   "cell_type": "markdown",
   "id": "2df1e9ba",
   "metadata": {},
   "source": [
    "## This is the introduction of my jupyter lab"
   ]
  },
  {
   "cell_type": "markdown",
   "id": "8fe48a73",
   "metadata": {},
   "source": [
    "### ex4"
   ]
  },
  {
   "cell_type": "markdown",
   "id": "b50de7f7",
   "metadata": {},
   "source": [
    "#### Python: Python is the most widely used language in data science due to its simplicity, readability, and vast ecosystem of libraries such as NumPy, pandas, scikit-learn, TensorFlow, and PyTorch.\n",
    "\n",
    "#### R: R is another popular language specifically designed for statistical computing and graphics. It has a rich collection of packages for data manipulation, visualization, and statistical analysis.\n",
    "\n",
    "#### SQL: Although not a programming language per se, SQL (Structured Query Language) is essential for working with relational databases. It allows you to query and manipulate data efficiently.\n",
    "\n",
    "#### Julia: Julia is a high-level, high-performance language for technical computing. It aims to provide the best of both worlds, combining the ease of use of Python and the speed of languages like C and Fortran.\n",
    "\n",
    "#### Scala: Scala is a general-purpose programming language that runs on the Java Virtual Machine (JVM). It has gained popularity in the data science community, especially for large-scale data processing using Apache Spark.\n",
    "\n",
    "#### MATLAB: MATLAB is widely used in academia and industry for numerical computing and prototyping. It offers powerful tools for matrix manipulation, visualization, and algorithm development.\n",
    "\n",
    "#### SAS: SAS (Statistical Analysis System) is a software suite used for advanced analytics, business intelligence, and data management. It provides a wide range of statistical and data manipulation capabilities.\n",
    "\n",
    "#### Java: Java is a versatile language with extensive libraries and frameworks. While it may not be as commonly used in data science as Python or R, it is utilized in certain areas such as big data processing and enterprise applications.\n",
    "\n",
    "#### C/C++: These low-level programming languages are often used for performance-critical tasks in data science, such as developing efficient algorithms or integrating with existing systems."
   ]
  },
  {
   "cell_type": "markdown",
   "id": "3d2ea5a2",
   "metadata": {},
   "source": [
    "### ex5"
   ]
  },
  {
   "cell_type": "markdown",
   "id": "64171ddc",
   "metadata": {},
   "source": [
    "### Popular Data Science Libraries\n",
    "\n",
    "Here are some widely used data science libraries in Python:\n",
    "\n",
    "- **NumPy**: A fundamental library for numerical computing in Python, providing powerful data structures and mathematical functions.\n",
    "- **pandas**: A library for data manipulation and analysis, offering data structures like DataFrames for efficient data handling.\n",
    "- **scikit-learn**: A comprehensive machine learning library with various algorithms for classification, regression, clustering, and more.\n",
    "- **TensorFlow**: An open-source library for machine learning and deep learning, widely used for building and training neural networks.\n",
    "- **PyTorch**: A deep learning framework known for its dynamic computation graph and extensive support for GPU acceleration.\n",
    "- **Keras**: A high-level neural networks API that runs on top of TensorFlow, enabling quick prototyping and model deployment.\n",
    "- **matplotlib**: A plotting library for creating static, animated, and interactive visualizations in Python.\n",
    "- **seaborn**: A statistical data visualization library built on top of matplotlib, providing a higher-level interface and attractive styles.\n",
    "- **Plotly**: A library for creating interactive visualizations, dashboards, and data-driven web applications.\n",
    "- **SciPy**: A library for scientific and technical computing, offering modules for optimization, linear algebra, signal processing, and more.\n",
    "- **statsmodels**: A library for statistical modeling and testing, including regression, time series analysis, and hypothesis testing.\n",
    "- **NLTK**: The Natural Language Toolkit is a library for working with human language data, providing tools for text processing and analysis.\n",
    "- **NetworkX**: A library for studying the structure and dynamics of complex networks, with algorithms for graph theory and analysis.\n",
    "\n",
    "These libraries form the foundation of many data science projects, enabling tasks such as data manipulation, statistical analysis, machine learning, and visualization.\n"
   ]
  },
  {
   "cell_type": "markdown",
   "id": "3cf429c2",
   "metadata": {},
   "source": [
    "### ex6"
   ]
  },
  {
   "cell_type": "markdown",
   "id": "cd84a79b",
   "metadata": {},
   "source": [
    "### Data Science Tools\n",
    "\n",
    "| Tool              | Description                                                                                                  |\n",
    "|-------------------|--------------------------------------------------------------------------------------------------------------|\n",
    "| Jupyter Notebooks | Interactive computing environment combining code, visualizations, and explanatory text.                      |\n",
    "| RStudio           | Integrated development environment (IDE) for the R programming language.                                      |\n",
    "| Anaconda          | Python distribution with pre-installed data science libraries and package management capabilities.           |\n",
    "| TensorFlow        | Open-source library for machine learning and deep learning, developed by Google.                             |\n",
    "| scikit-learn      | Machine learning library in Python with a wide range of algorithms and tools.                                |\n",
    "| PyTorch           | Deep learning framework with a dynamic computation graph and GPU acceleration support.                        |\n",
    "| Apache Spark      | Distributed computing framework for big data processing and analytics.                                        |\n",
    "| Tableau           | Data visualization tool for creating interactive dashboards and reports.                                      |\n",
    "| Power BI          | Business intelligence tool by Microsoft for data visualization and analysis.                                 |\n",
    "| KNIME             | Open-source platform for data blending, analysis, and modeling with a visual workflow interface.             |\n",
    "| Apache Hadoop     | Framework for distributed processing of large datasets across clusters of computers.                         |\n",
    "| RapidMiner        | Data science platform with a visual workflow environment for data preparation and machine learning tasks.    |\n",
    "| MATLAB            | Proprietary numerical computing environment often used for prototyping and data analysis.                    |\n",
    "| SAS               | Software suite for advanced analytics, business intelligence, and data management.                            |\n",
    "\n",
    "This table provides an overview of some popular data science tools used for tasks such as data analysis, machine learning, and visualization. Feel free to explore and experiment with these tools to enhance your data science workflows.\n"
   ]
  },
  {
   "cell_type": "markdown",
   "id": "8d25b24b",
   "metadata": {},
   "source": [
    "### ex7"
   ]
  },
  {
   "cell_type": "markdown",
   "id": "3beaef43",
   "metadata": {},
   "source": [
    "### Arithmetic Expression Examples\n",
    "\n",
    "Arithmetic expressions are mathematical calculations that involve numbers, operators, and sometimes variables. They can be simple or complex, and are commonly used in various programming languages and mathematical contexts. Here are a few examples of arithmetic expressions:\n",
    "\n",
    "1. Addition: The `+` operator is used for addition. For example, `2 + 3` evaluates to `5`.\n",
    "\n",
    "2. Subtraction: The `-` operator is used for subtraction. For example, `5 - 2` evaluates to `3`.\n",
    "\n",
    "3. Multiplication: The `*` operator is used for multiplication. For example, `3 * 4` evaluates to `12`.\n",
    "\n",
    "4. Division: The `/` operator is used for division. For example, `10 / 2` evaluates to `5`.\n",
    "\n",
    "5. Exponentiation: The `**` operator is used for exponentiation. For example, `2 ** 3` evaluates to `8` (2 raised to the power of 3).\n",
    "\n",
    "6. Modulo: The `%` operator calculates the remainder of a division. For example, `10 % 3` evaluates to `1` (remainder of dividing 10 by 3).\n",
    "\n",
    "These are basic arithmetic operations, but expressions can also involve parentheses `()` to control the order of operations. For example, `(2 + 3) * 4` evaluates to `20` (adding 2 and 3 first, then multiplying the result by 4).\n",
    "\n",
    "Arithmetic expressions play a crucial role in performing calculations and solving mathematical problems. They are also fundamental in programming for implementing algorithms and manipulating data.\n"
   ]
  },
  {
   "cell_type": "markdown",
   "id": "5f32971e",
   "metadata": {},
   "source": [
    "### ex8"
   ]
  },
  {
   "cell_type": "code",
   "execution_count": 2,
   "id": "d588b52e",
   "metadata": {},
   "outputs": [
    {
     "name": "stdout",
     "output_type": "stream",
     "text": [
      "Multiplication Result: 12\n",
      "Addition Result: 7\n"
     ]
    }
   ],
   "source": [
    "# Multiply two numbers\n",
    "a = 4\n",
    "b = 3\n",
    "multiplication_result = a * b\n",
    "print(\"Multiplication Result:\", multiplication_result)\n",
    "\n",
    "# Add two numbers\n",
    "c = 5\n",
    "d = 2\n",
    "addition_result = c + d\n",
    "print(\"Addition Result:\", addition_result)"
   ]
  },
  {
   "cell_type": "markdown",
   "id": "5222282e",
   "metadata": {},
   "source": [
    "### ex9"
   ]
  },
  {
   "cell_type": "code",
   "execution_count": 4,
   "id": "303be852",
   "metadata": {},
   "outputs": [
    {
     "name": "stdout",
     "output_type": "stream",
     "text": [
      "Minutes: 60\n",
      "Hours: 1.0\n"
     ]
    }
   ],
   "source": [
    "# Convert minutes to hours\n",
    "minutes = 60\n",
    "hours = minutes / 60\n",
    "\n",
    "print(\"Minutes:\", minutes)\n",
    "print(\"Hours:\", hours)\n"
   ]
  },
  {
   "cell_type": "markdown",
   "id": "4bfd2ab1",
   "metadata": {},
   "source": [
    "### ex10"
   ]
  },
  {
   "cell_type": "markdown",
   "id": "66f8d1bc",
   "metadata": {},
   "source": [
    "### Objectives\n",
    "\n",
    "In this project/task, our main objectives are:\n",
    "\n",
    "1. **Data Collection**: Gather relevant data from various sources, such as databases, APIs, or files.\n",
    "\n",
    "2. **Data Preprocessing**: Clean the data by handling missing values, removing duplicates, and addressing any inconsistencies or errors.\n",
    "\n",
    "3. **Exploratory Data Analysis**: Perform exploratory analysis to gain insights into the data, identify patterns, and understand the relationships between variables.\n",
    "\n",
    "4. **Feature Engineering**: Create new features or transform existing ones to enhance the predictive power of the data.\n",
    "\n",
    "5. **Model Development**: Build machine learning models suitable for the problem at hand, considering factors like model selection, hyperparameter tuning, and performance evaluation.\n",
    "\n",
    "6. **Model Evaluation**: Assess the performance of the developed models using appropriate evaluation metrics and techniques, such as cross-validation or holdout testing.\n",
    "\n",
    "7. **Model Deployment**: Deploy the selected model into a production environment or prepare it for integration into other systems.\n",
    "\n",
    "8. **Documentation**: Document the entire process, including data sources, preprocessing steps, model development, and evaluation, to ensure reproducibility and facilitate future iterations.\n",
    "\n",
    "9. **Presentation and Communication**: Summarize and present the findings, insights, and recommendations in a clear and concise manner, tailored to the target audience.\n",
    "\n",
    "These objectives outline the key steps and goals of the project/task and provide a roadmap for the data science workflow. It's essential to address each objective to ensure a comprehensive and successful outcome.\n"
   ]
  },
  {
   "cell_type": "markdown",
   "id": "32ad57d0",
   "metadata": {},
   "source": [
    "### ex11"
   ]
  },
  {
   "cell_type": "markdown",
   "id": "139c4823",
   "metadata": {},
   "source": [
    "## Author: Carlos Ferrer Roman"
   ]
  },
  {
   "cell_type": "markdown",
   "id": "178ca6be",
   "metadata": {},
   "source": [
    "### ex12"
   ]
  },
  {
   "cell_type": "code",
   "execution_count": 5,
   "id": "ff22c983",
   "metadata": {},
   "outputs": [
    {
     "ename": "SyntaxError",
     "evalue": "invalid syntax (3276317788.py, line 1)",
     "output_type": "error",
     "traceback": [
      "\u001b[1;36m  Cell \u001b[1;32mIn[5], line 1\u001b[1;36m\u001b[0m\n\u001b[1;33m    git clone https://github.com/chalsfxx/jupyter-lab.git\u001b[0m\n\u001b[1;37m        ^\u001b[0m\n\u001b[1;31mSyntaxError\u001b[0m\u001b[1;31m:\u001b[0m invalid syntax\n"
     ]
    }
   ],
   "source": [
    "git clone https://github.com/chalsfxx/jupyter-lab.git"
   ]
  },
  {
   "cell_type": "markdown",
   "id": "8f57c75b",
   "metadata": {},
   "source": [
    "### ex13"
   ]
  },
  {
   "cell_type": "code",
   "execution_count": null,
   "id": "2d11ca35",
   "metadata": {},
   "outputs": [],
   "source": []
  }
 ],
 "metadata": {
  "kernelspec": {
   "display_name": "Python 3 (ipykernel)",
   "language": "python",
   "name": "python3"
  },
  "language_info": {
   "codemirror_mode": {
    "name": "ipython",
    "version": 3
   },
   "file_extension": ".py",
   "mimetype": "text/x-python",
   "name": "python",
   "nbconvert_exporter": "python",
   "pygments_lexer": "ipython3",
   "version": "3.10.9"
  }
 },
 "nbformat": 4,
 "nbformat_minor": 5
}
